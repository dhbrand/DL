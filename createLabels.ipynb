{
 "cells": [
  {
   "cell_type": "code",
   "execution_count": 2,
   "metadata": {
    "collapsed": true
   },
   "outputs": [],
   "source": [
    "import glob\n",
    "import pandas as pd\n",
    "import random"
   ]
  },
  {
   "cell_type": "code",
   "execution_count": 3,
   "metadata": {},
   "outputs": [],
   "source": [
    "# Loading the location of all files - image dataset\n",
    "# Considering our image dataset has apple or orange\n",
    "# The images are named as apple01.jpg, apple02.jpg .. , orange01.jpg .. etc.\n",
    "\n",
    "images = glob.glob('morph/images/*.JPG')\n",
    "\n",
    "# Shuffling the dataset to remove the bias - if present\n",
    "random.shuffle(images)\n",
    "# Creating Labels. Consider apple = 0 and orange = 1"
   ]
  },
  {
   "cell_type": "code",
   "execution_count": 4,
   "metadata": {},
   "outputs": [],
   "source": [
    "labels = [ 0 if 'M' in image else 1 for image in images ]\n",
    "data = list(zip(images, labels))\n",
    "\n",
    "# Ratio\n",
    "\n",
    "data_size = len(data)\n",
    "split_size = int(0.6 * data_size)"
   ]
  },
  {
   "cell_type": "code",
   "execution_count": 5,
   "metadata": {},
   "outputs": [],
   "source": [
    "# Splitting the dataset\n",
    "\n",
    "training_images, training_labels = zip(*data[:split_size])\n",
    "testing_images, testing_labels = zip(*data[split_size:])"
   ]
  },
  {
   "cell_type": "code",
   "execution_count": 6,
   "metadata": {},
   "outputs": [
    {
     "name": "stdout",
     "output_type": "stream",
     "text": [
      "('morph/images/102648_3M44.JPG', 'morph/images/330486_03F29.JPG', 'morph/images/263120_10M22.JPG', 'morph/images/096771_01M40.JPG', 'morph/images/174580_05M30.JPG')\n"
     ]
    }
   ],
   "source": [
    "print(training_images[0:5])"
   ]
  },
  {
   "cell_type": "code",
   "execution_count": 10,
   "metadata": {},
   "outputs": [],
   "source": [
    "L = (training_images, training_labels)\n",
    "\n",
    "df = pd.DataFrame(list(L))\n",
    "\n",
    "df = df.transpose()\n",
    "\n",
    "df.to_csv(\"./morphLabels.csv\")"
   ]
  },
  {
   "cell_type": "code",
   "execution_count": 11,
   "metadata": {},
   "outputs": [
    {
     "name": "stdout",
     "output_type": "stream",
     "text": [
      "[0, 1, 0, 0, 0]\n"
     ]
    }
   ],
   "source": [
    "print(labels[0:5])"
   ]
  },
  {
   "cell_type": "code",
   "execution_count": null,
   "metadata": {},
   "outputs": [],
   "source": []
  }
 ],
 "metadata": {
  "kernelspec": {
   "display_name": "Python 2",
   "language": "python",
   "name": "python2"
  },
  "language_info": {
   "codemirror_mode": {
    "name": "ipython",
    "version": 2
   },
   "file_extension": ".py",
   "mimetype": "text/x-python",
   "name": "python",
   "nbconvert_exporter": "python",
   "pygments_lexer": "ipython2",
   "version": "2.7.6"
  }
 },
 "nbformat": 4,
 "nbformat_minor": 0
}
